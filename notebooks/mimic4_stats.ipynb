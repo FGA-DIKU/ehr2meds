{
 "cells": [
  {
   "cell_type": "code",
   "execution_count": 3,
   "metadata": {},
   "outputs": [],
   "source": [
    "import pandas as pd\n",
    "import os\n",
    "from os.path import join"
   ]
  },
  {
   "cell_type": "markdown",
   "metadata": {},
   "source": [
    "### Load in all files and display them"
   ]
  },
  {
   "cell_type": "code",
   "execution_count": 4,
   "metadata": {},
   "outputs": [
    {
     "name": "stdout",
     "output_type": "stream",
     "text": [
      "['..\\\\data\\\\raw\\\\mimic-iv-2.2\\\\mimic-iv-2.2\\\\hosp\\\\admissions.csv.gz', '..\\\\data\\\\raw\\\\mimic-iv-2.2\\\\mimic-iv-2.2\\\\hosp\\\\d_hcpcs.csv.gz', '..\\\\data\\\\raw\\\\mimic-iv-2.2\\\\mimic-iv-2.2\\\\hosp\\\\d_icd_diagnoses.csv.gz', '..\\\\data\\\\raw\\\\mimic-iv-2.2\\\\mimic-iv-2.2\\\\hosp\\\\d_icd_procedures.csv.gz', '..\\\\data\\\\raw\\\\mimic-iv-2.2\\\\mimic-iv-2.2\\\\hosp\\\\d_labitems.csv.gz', '..\\\\data\\\\raw\\\\mimic-iv-2.2\\\\mimic-iv-2.2\\\\hosp\\\\diagnoses_icd.csv.gz', '..\\\\data\\\\raw\\\\mimic-iv-2.2\\\\mimic-iv-2.2\\\\hosp\\\\drgcodes.csv.gz', '..\\\\data\\\\raw\\\\mimic-iv-2.2\\\\mimic-iv-2.2\\\\hosp\\\\emar.csv.gz', '..\\\\data\\\\raw\\\\mimic-iv-2.2\\\\mimic-iv-2.2\\\\hosp\\\\emar_detail.csv.gz', '..\\\\data\\\\raw\\\\mimic-iv-2.2\\\\mimic-iv-2.2\\\\hosp\\\\hcpcsevents.csv.gz', '..\\\\data\\\\raw\\\\mimic-iv-2.2\\\\mimic-iv-2.2\\\\hosp\\\\labevents.csv.gz', '..\\\\data\\\\raw\\\\mimic-iv-2.2\\\\mimic-iv-2.2\\\\hosp\\\\microbiologyevents.csv.gz', '..\\\\data\\\\raw\\\\mimic-iv-2.2\\\\mimic-iv-2.2\\\\hosp\\\\omr.csv.gz', '..\\\\data\\\\raw\\\\mimic-iv-2.2\\\\mimic-iv-2.2\\\\hosp\\\\patients.csv.gz', '..\\\\data\\\\raw\\\\mimic-iv-2.2\\\\mimic-iv-2.2\\\\hosp\\\\pharmacy.csv.gz', '..\\\\data\\\\raw\\\\mimic-iv-2.2\\\\mimic-iv-2.2\\\\hosp\\\\poe.csv.gz', '..\\\\data\\\\raw\\\\mimic-iv-2.2\\\\mimic-iv-2.2\\\\hosp\\\\poe_detail.csv.gz', '..\\\\data\\\\raw\\\\mimic-iv-2.2\\\\mimic-iv-2.2\\\\hosp\\\\prescriptions.csv.gz', '..\\\\data\\\\raw\\\\mimic-iv-2.2\\\\mimic-iv-2.2\\\\hosp\\\\procedures_icd.csv.gz', '..\\\\data\\\\raw\\\\mimic-iv-2.2\\\\mimic-iv-2.2\\\\hosp\\\\provider.csv.gz', '..\\\\data\\\\raw\\\\mimic-iv-2.2\\\\mimic-iv-2.2\\\\hosp\\\\services.csv.gz', '..\\\\data\\\\raw\\\\mimic-iv-2.2\\\\mimic-iv-2.2\\\\hosp\\\\transfers.csv.gz']\n"
     ]
    }
   ],
   "source": [
    "data_dir = \"..\\\\data\\\\raw\\\\mimic-iv-2.2\\\\mimic-iv-2.2\\\\hosp\"\n",
    "files = []\n",
    "for file in os.listdir(data_dir):\n",
    "    files.append(join(data_dir, file))\n",
    "files.sort()\n",
    "print(files)"
   ]
  },
  {
   "cell_type": "markdown",
   "metadata": {},
   "source": [
    "### Inspect Admissions"
   ]
  },
  {
   "cell_type": "code",
   "execution_count": 5,
   "metadata": {},
   "outputs": [
    {
     "data": {
      "text/html": [
       "<div>\n",
       "<style scoped>\n",
       "    .dataframe tbody tr th:only-of-type {\n",
       "        vertical-align: middle;\n",
       "    }\n",
       "\n",
       "    .dataframe tbody tr th {\n",
       "        vertical-align: top;\n",
       "    }\n",
       "\n",
       "    .dataframe thead th {\n",
       "        text-align: right;\n",
       "    }\n",
       "</style>\n",
       "<table border=\"1\" class=\"dataframe\">\n",
       "  <thead>\n",
       "    <tr style=\"text-align: right;\">\n",
       "      <th></th>\n",
       "      <th>subject_id</th>\n",
       "      <th>hadm_id</th>\n",
       "      <th>admittime</th>\n",
       "      <th>dischtime</th>\n",
       "      <th>deathtime</th>\n",
       "      <th>admission_type</th>\n",
       "      <th>admit_provider_id</th>\n",
       "      <th>admission_location</th>\n",
       "      <th>discharge_location</th>\n",
       "      <th>insurance</th>\n",
       "      <th>language</th>\n",
       "      <th>marital_status</th>\n",
       "      <th>race</th>\n",
       "      <th>edregtime</th>\n",
       "      <th>edouttime</th>\n",
       "      <th>hospital_expire_flag</th>\n",
       "    </tr>\n",
       "  </thead>\n",
       "  <tbody>\n",
       "    <tr>\n",
       "      <th>0</th>\n",
       "      <td>10000032</td>\n",
       "      <td>22595853</td>\n",
       "      <td>2180-05-06 22:23:00</td>\n",
       "      <td>2180-05-07 17:15:00</td>\n",
       "      <td>NaN</td>\n",
       "      <td>URGENT</td>\n",
       "      <td>P874LG</td>\n",
       "      <td>TRANSFER FROM HOSPITAL</td>\n",
       "      <td>HOME</td>\n",
       "      <td>Other</td>\n",
       "      <td>ENGLISH</td>\n",
       "      <td>WIDOWED</td>\n",
       "      <td>WHITE</td>\n",
       "      <td>2180-05-06 19:17:00</td>\n",
       "      <td>2180-05-06 23:30:00</td>\n",
       "      <td>0</td>\n",
       "    </tr>\n",
       "    <tr>\n",
       "      <th>1</th>\n",
       "      <td>10000032</td>\n",
       "      <td>22841357</td>\n",
       "      <td>2180-06-26 18:27:00</td>\n",
       "      <td>2180-06-27 18:49:00</td>\n",
       "      <td>NaN</td>\n",
       "      <td>EW EMER.</td>\n",
       "      <td>P09Q6Y</td>\n",
       "      <td>EMERGENCY ROOM</td>\n",
       "      <td>HOME</td>\n",
       "      <td>Medicaid</td>\n",
       "      <td>ENGLISH</td>\n",
       "      <td>WIDOWED</td>\n",
       "      <td>WHITE</td>\n",
       "      <td>2180-06-26 15:54:00</td>\n",
       "      <td>2180-06-26 21:31:00</td>\n",
       "      <td>0</td>\n",
       "    </tr>\n",
       "    <tr>\n",
       "      <th>2</th>\n",
       "      <td>10000032</td>\n",
       "      <td>25742920</td>\n",
       "      <td>2180-08-05 23:44:00</td>\n",
       "      <td>2180-08-07 17:50:00</td>\n",
       "      <td>NaN</td>\n",
       "      <td>EW EMER.</td>\n",
       "      <td>P60CC5</td>\n",
       "      <td>EMERGENCY ROOM</td>\n",
       "      <td>HOSPICE</td>\n",
       "      <td>Medicaid</td>\n",
       "      <td>ENGLISH</td>\n",
       "      <td>WIDOWED</td>\n",
       "      <td>WHITE</td>\n",
       "      <td>2180-08-05 20:58:00</td>\n",
       "      <td>2180-08-06 01:44:00</td>\n",
       "      <td>0</td>\n",
       "    </tr>\n",
       "    <tr>\n",
       "      <th>3</th>\n",
       "      <td>10000032</td>\n",
       "      <td>29079034</td>\n",
       "      <td>2180-07-23 12:35:00</td>\n",
       "      <td>2180-07-25 17:55:00</td>\n",
       "      <td>NaN</td>\n",
       "      <td>EW EMER.</td>\n",
       "      <td>P30KEH</td>\n",
       "      <td>EMERGENCY ROOM</td>\n",
       "      <td>HOME</td>\n",
       "      <td>Medicaid</td>\n",
       "      <td>ENGLISH</td>\n",
       "      <td>WIDOWED</td>\n",
       "      <td>WHITE</td>\n",
       "      <td>2180-07-23 05:54:00</td>\n",
       "      <td>2180-07-23 14:00:00</td>\n",
       "      <td>0</td>\n",
       "    </tr>\n",
       "    <tr>\n",
       "      <th>4</th>\n",
       "      <td>10000068</td>\n",
       "      <td>25022803</td>\n",
       "      <td>2160-03-03 23:16:00</td>\n",
       "      <td>2160-03-04 06:26:00</td>\n",
       "      <td>NaN</td>\n",
       "      <td>EU OBSERVATION</td>\n",
       "      <td>P51VDL</td>\n",
       "      <td>EMERGENCY ROOM</td>\n",
       "      <td>NaN</td>\n",
       "      <td>Other</td>\n",
       "      <td>ENGLISH</td>\n",
       "      <td>SINGLE</td>\n",
       "      <td>WHITE</td>\n",
       "      <td>2160-03-03 21:55:00</td>\n",
       "      <td>2160-03-04 06:26:00</td>\n",
       "      <td>0</td>\n",
       "    </tr>\n",
       "  </tbody>\n",
       "</table>\n",
       "</div>"
      ],
      "text/plain": [
       "   subject_id   hadm_id            admittime            dischtime deathtime  \\\n",
       "0    10000032  22595853  2180-05-06 22:23:00  2180-05-07 17:15:00       NaN   \n",
       "1    10000032  22841357  2180-06-26 18:27:00  2180-06-27 18:49:00       NaN   \n",
       "2    10000032  25742920  2180-08-05 23:44:00  2180-08-07 17:50:00       NaN   \n",
       "3    10000032  29079034  2180-07-23 12:35:00  2180-07-25 17:55:00       NaN   \n",
       "4    10000068  25022803  2160-03-03 23:16:00  2160-03-04 06:26:00       NaN   \n",
       "\n",
       "   admission_type admit_provider_id      admission_location  \\\n",
       "0          URGENT            P874LG  TRANSFER FROM HOSPITAL   \n",
       "1        EW EMER.            P09Q6Y          EMERGENCY ROOM   \n",
       "2        EW EMER.            P60CC5          EMERGENCY ROOM   \n",
       "3        EW EMER.            P30KEH          EMERGENCY ROOM   \n",
       "4  EU OBSERVATION            P51VDL          EMERGENCY ROOM   \n",
       "\n",
       "  discharge_location insurance language marital_status   race  \\\n",
       "0               HOME     Other  ENGLISH        WIDOWED  WHITE   \n",
       "1               HOME  Medicaid  ENGLISH        WIDOWED  WHITE   \n",
       "2            HOSPICE  Medicaid  ENGLISH        WIDOWED  WHITE   \n",
       "3               HOME  Medicaid  ENGLISH        WIDOWED  WHITE   \n",
       "4                NaN     Other  ENGLISH         SINGLE  WHITE   \n",
       "\n",
       "             edregtime            edouttime  hospital_expire_flag  \n",
       "0  2180-05-06 19:17:00  2180-05-06 23:30:00                     0  \n",
       "1  2180-06-26 15:54:00  2180-06-26 21:31:00                     0  \n",
       "2  2180-08-05 20:58:00  2180-08-06 01:44:00                     0  \n",
       "3  2180-07-23 05:54:00  2180-07-23 14:00:00                     0  \n",
       "4  2160-03-03 21:55:00  2160-03-04 06:26:00                     0  "
      ]
     },
     "execution_count": 5,
     "metadata": {},
     "output_type": "execute_result"
    }
   ],
   "source": [
    "admissions = pd.read_csv(files[0], nrows=1000)\n",
    "admissions.head()"
   ]
  },
  {
   "cell_type": "code",
   "execution_count": 14,
   "metadata": {},
   "outputs": [
    {
     "data": {
      "text/plain": [
       "count     573.000000\n",
       "mean      315.395876\n",
       "std       481.198888\n",
       "min         0.000000\n",
       "25%        16.087500\n",
       "50%        89.375000\n",
       "75%       441.563889\n",
       "max      3069.990972\n",
       "Name: time_between, dtype: float64"
      ]
     },
     "execution_count": 14,
     "metadata": {},
     "output_type": "execute_result"
    }
   ],
   "source": [
    "admissions = admissions.sort_values(['subject_id', 'admittime'])\n",
    "\n",
    "# compute time between discharge of the last admission and admittime of the next admission\n",
    "admissions['next_admittime'] = admissions.groupby('subject_id')['admittime'].shift(-1)\n",
    "admissions['time_between'] = admissions['next_admittime'] - admissions['dischtime']\n",
    "# remove the temporary 'next_admittime' column\n",
    "admissions = admissions.drop(columns='next_admittime')\n",
    "admissions.time_between = admissions.time_between.dt.total_seconds() / 60 / 60 / 24\n",
    "admissions.time_between.describe()"
   ]
  },
  {
   "cell_type": "code",
   "execution_count": 15,
   "metadata": {},
   "outputs": [
    {
     "data": {
      "text/plain": [
       "<AxesSubplot:>"
      ]
     },
     "execution_count": 15,
     "metadata": {},
     "output_type": "execute_result"
    },
    {
     "data": {
      "image/png": "[encoded data removed]",
      "text/plain": [
       "<Figure size 640x480 with 1 Axes>"
      ]
     },
     "metadata": {},
     "output_type": "display_data"
    }
   ],
   "source": [
    "admissions.time_between.hist()"
   ]
  },
  {
   "cell_type": "code",
   "execution_count": null,
   "metadata": {},
   "outputs": [],
   "source": []
  }
 ],
 "metadata": {
  "kernelspec": {
   "display_name": "datascience",
   "language": "python",
   "name": "python3"
  },
  "language_info": {
   "codemirror_mode": {
    "name": "ipython",
    "version": 3
   },
   "file_extension": ".py",
   "mimetype": "text/x-python",
   "name": "python",
   "nbconvert_exporter": "python",
   "pygments_lexer": "ipython3",
   "version": "3.9.16"
  },
  "orig_nbformat": 4
 },
 "nbformat": 4,
 "nbformat_minor": 2
}
