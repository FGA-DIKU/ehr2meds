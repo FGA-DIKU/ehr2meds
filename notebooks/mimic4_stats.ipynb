{
 "cells": [
  {
   "cell_type": "code",
   "execution_count": 45,
   "metadata": {},
   "outputs": [],
   "source": [
    "\n",
    "import pandas as pd\n",
    "import numpy as np\n",
    "import os\n",
    "from os.path import join\n"
   ]
  },
  {
   "cell_type": "markdown",
   "metadata": {},
   "source": [
    "### Load in all files and display them"
   ]
  },
  {
   "cell_type": "code",
   "execution_count": 59,
   "metadata": {},
   "outputs": [],
   "source": [
    "data_dir = \"..\\\\data\\\\raw\\\\mimic-iv-2.2\\\\mimic-iv-2.2\\\\hosp\"\n",
    "files = []\n",
    "for file in os.listdir(data_dir):\n",
    "    files.append(join(data_dir, file))\n",
    "files.sort()"
   ]
  },
  {
   "cell_type": "markdown",
   "metadata": {},
   "source": [
    "### Inspect Admissions"
   ]
  },
  {
   "cell_type": "code",
   "execution_count": 47,
   "metadata": {},
   "outputs": [
    {
     "name": "stdout",
     "output_type": "stream",
     "text": [
      "There are admissions for  180733 patients.\n"
     ]
    }
   ],
   "source": [
    "admissions = pd.read_csv(files[0])\n",
    "admissions.head()\n",
    "print(\"There are admissions for \",admissions.subject_id.nunique(), \"patients.\")"
   ]
  },
  {
   "cell_type": "markdown",
   "metadata": {},
   "source": [
    "### Select those present in patients"
   ]
  },
  {
   "cell_type": "code",
   "execution_count": 48,
   "metadata": {},
   "outputs": [
    {
     "name": "stdout",
     "output_type": "stream",
     "text": [
      "Number of patients in MIMIC-IV: 299712\n"
     ]
    }
   ],
   "source": [
    "## How many patients are in the MIMIC-IV database?\n",
    "patients = pd.read_csv(files[-9])\n",
    "print(f\"Number of patients in MIMIC-IV: {len(patients.subject_id.unique())}\")"
   ]
  },
  {
   "cell_type": "code",
   "execution_count": 54,
   "metadata": {},
   "outputs": [],
   "source": [
    "admissions = admissions[admissions.subject_id.isin(patients.subject_id.unique())]"
   ]
  },
  {
   "cell_type": "code",
   "execution_count": 50,
   "metadata": {},
   "outputs": [
    {
     "data": {
      "text/plain": [
       "count    250498.000000\n",
       "mean        319.445096\n",
       "std         553.851010\n",
       "min         -29.731250\n",
       "25%          15.806944\n",
       "50%          76.376736\n",
       "75%         357.265451\n",
       "max        4329.223611\n",
       "Name: time_between, dtype: float64"
      ]
     },
     "execution_count": 50,
     "metadata": {},
     "output_type": "execute_result"
    }
   ],
   "source": [
    "admissions = admissions.sort_values(['subject_id', 'admittime'])\n",
    "admissions.admittime = pd.to_datetime(admissions.admittime)\n",
    "admissions.dischtime = pd.to_datetime(admissions.dischtime)\n",
    "# compute time between discharge of the last admission and admittime of the next admission\n",
    "admissions['next_admittime'] = admissions.groupby('subject_id')['admittime'].shift(-1)\n",
    "admissions['time_between'] = admissions['next_admittime'] - admissions['dischtime']\n",
    "# remove the temporary 'next_admittime' column\n",
    "admissions = admissions.drop(columns='next_admittime')\n",
    "admissions.time_between = admissions.time_between.dt.total_seconds() / 60 / 60 / 24\n",
    "admissions.time_between.describe()"
   ]
  },
  {
   "cell_type": "code",
   "execution_count": 51,
   "metadata": {},
   "outputs": [
    {
     "data": {
      "text/plain": [
       "<AxesSubplot:>"
      ]
     },
     "execution_count": 51,
     "metadata": {},
     "output_type": "execute_result"
    },
    {
     "data": {
      "image/png": "[encoded data removed]",
      "text/plain": [
       "<Figure size 640x480 with 1 Axes>"
      ]
     },
     "metadata": {},
     "output_type": "display_data"
    }
   ],
   "source": [
    "admissions.time_between.hist()"
   ]
  },
  {
   "cell_type": "code",
   "execution_count": 53,
   "metadata": {},
   "outputs": [
    {
     "data": {
      "text/plain": [
       "180733"
      ]
     },
     "execution_count": 53,
     "metadata": {},
     "output_type": "execute_result"
    }
   ],
   "source": [
    "admissions.subject_id.nunique()"
   ]
  },
  {
   "cell_type": "code",
   "execution_count": 52,
   "metadata": {},
   "outputs": [
    {
     "data": {
      "text/plain": [
       "(array([  1,   2,   3,   4,   5,   6,   7,   8,   9,  10,  11,  12,  13,\n",
       "         14,  15,  16,  17,  18,  19,  20,  21,  22,  23,  24,  25,  26,\n",
       "         27,  28,  29,  30,  31,  32,  33,  34,  35,  36,  37,  38,  39,\n",
       "         40,  41,  42,  43,  44,  45,  46,  47,  48,  49,  50,  51,  52,\n",
       "         53,  54,  55,  56,  57,  58,  59,  60,  61,  62,  63,  64,  65,\n",
       "         67,  68,  69,  70,  71,  72,  75,  76,  77,  78,  79,  80,  82,\n",
       "         84,  85,  86,  88,  89,  92,  93,  94,  95,  97,  98, 129, 130,\n",
       "        142, 163, 185, 238], dtype=int64),\n",
       " array([101198,  35712,  15923,   8738,   5205,   3383,   2287,   1681,\n",
       "          1299,    939,    748,    593,    474,    395,    312,    236,\n",
       "           183,    174,    141,    138,     97,    106,     67,     70,\n",
       "            52,     49,     56,     37,     31,     37,     30,     26,\n",
       "            29,     20,     26,     18,     17,     11,     11,     13,\n",
       "            12,      9,      5,     14,      6,      6,      8,      7,\n",
       "            11,      6,      4,      5,      7,      2,      4,      3,\n",
       "             3,      4,      2,      2,      1,      2,      1,      6,\n",
       "             1,      1,      3,      3,      1,      3,      1,      1,\n",
       "             1,      1,      1,      2,      1,      1,      2,      1,\n",
       "             1,      1,      2,      2,      1,      1,      1,      1,\n",
       "             1,      1,      1,      1,      1,      1,      1],\n",
       "       dtype=int64))"
      ]
     },
     "execution_count": 52,
     "metadata": {},
     "output_type": "execute_result"
    }
   ],
   "source": [
    "np.unique(admissions.groupby('subject_id').hadm_id.count().values, return_counts=True)"
   ]
  },
  {
   "cell_type": "code",
   "execution_count": 63,
   "metadata": {},
   "outputs": [
    {
     "data": {
      "text/plain": [
       "180640"
      ]
     },
     "execution_count": 63,
     "metadata": {},
     "output_type": "execute_result"
    }
   ],
   "source": [
    "diagnoses = pd.read_csv(files[5])\n",
    "diagnoses.subject_id.nunique()"
   ]
  },
  {
   "cell_type": "code",
   "execution_count": 62,
   "metadata": {},
   "outputs": [
    {
     "data": {
      "text/plain": [
       "180640"
      ]
     },
     "execution_count": 62,
     "metadata": {},
     "output_type": "execute_result"
    }
   ],
   "source": []
  }
 ],
 "metadata": {
  "kernelspec": {
   "display_name": "datascience",
   "language": "python",
   "name": "python3"
  },
  "language_info": {
   "codemirror_mode": {
    "name": "ipython",
    "version": 3
   },
   "file_extension": ".py",
   "mimetype": "text/x-python",
   "name": "python",
   "nbconvert_exporter": "python",
   "pygments_lexer": "ipython3",
   "version": "3.9.16"
  },
  "orig_nbformat": 4
 },
 "nbformat": 4,
 "nbformat_minor": 2
}
