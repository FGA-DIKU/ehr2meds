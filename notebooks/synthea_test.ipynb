{
 "cells": [
  {
   "cell_type": "code",
   "execution_count": 1,
   "metadata": {},
   "outputs": [],
   "source": [
    "import pandas as pd"
   ]
  },
  {
   "cell_type": "code",
   "execution_count": 32,
   "metadata": {},
   "outputs": [],
   "source": [
    "conditions = pd.read_csv(\"C:\\\\Users\\\\fjn197\\\\PhD\\\\projects\\\\PHAIR\\\\pipelines\\\\synthea\\\\output\\\\synthea500\\\\csv\\\\conditions.csv\")"
   ]
  },
  {
   "cell_type": "code",
   "execution_count": 34,
   "metadata": {},
   "outputs": [],
   "source": [
    "condition_codes = conditions.CODE"
   ]
  },
  {
   "cell_type": "code",
   "execution_count": 8,
   "metadata": {},
   "outputs": [],
   "source": [
    "df_map = pd.read_csv(\"..\\\\ehr_preprocess\\\\helpers\\\\tls_Icd10cmHumanReadableMap_US1000124_20230301.tsv\", sep=\"\\t\", )"
   ]
  },
  {
   "cell_type": "code",
   "execution_count": 35,
   "metadata": {},
   "outputs": [
    {
     "data": {
      "text/plain": [
       "(0, 16)"
      ]
     },
     "execution_count": 35,
     "metadata": {},
     "output_type": "execute_result"
    }
   ],
   "source": [
    "# how many condition codes are in mapCategoryId in df_map?\n",
    "df_map[df_map.mapCategoryId.isin(condition_codes)].shape"
   ]
  },
  {
   "cell_type": "code",
   "execution_count": 42,
   "metadata": {},
   "outputs": [
    {
     "data": {
      "text/plain": [
       "225"
      ]
     },
     "execution_count": 42,
     "metadata": {},
     "output_type": "execute_result"
    }
   ],
   "source": [
    "condition_codes.nunique()"
   ]
  },
  {
   "cell_type": "code",
   "execution_count": 44,
   "metadata": {},
   "outputs": [
    {
     "data": {
      "text/plain": [
       "217"
      ]
     },
     "execution_count": 44,
     "metadata": {},
     "output_type": "execute_result"
    }
   ],
   "source": [
    "# what about correlationId\n",
    "df_map[df_map.referencedComponentId.isin(condition_codes)].referencedComponentId.nunique()"
   ]
  },
  {
   "cell_type": "code",
   "execution_count": 49,
   "metadata": {},
   "outputs": [
    {
     "data": {
      "text/plain": [
       "238278"
      ]
     },
     "execution_count": 49,
     "metadata": {},
     "output_type": "execute_result"
    }
   ],
   "source": [
    "len(df_map)"
   ]
  },
  {
   "cell_type": "code",
   "execution_count": 52,
   "metadata": {},
   "outputs": [],
   "source": [
    "\n",
    "# keep only the first\n",
    "df_map = df_map.drop_duplicates(subset=\"referencedComponentId\", keep=\"first\")\n",
    "snomed_to_icd10 = df_map.set_index(\"referencedComponentId\").mapTarget.to_dict()"
   ]
  },
  {
   "cell_type": "code",
   "execution_count": 53,
   "metadata": {},
   "outputs": [],
   "source": [
    "# map conditions.Code using referencedComponentId\n",
    "conditions[\"CONCEPT\"] = conditions.CODE.map(snomed_to_icd10)"
   ]
  },
  {
   "cell_type": "code",
   "execution_count": 58,
   "metadata": {},
   "outputs": [],
   "source": [
    "conditions.CONCEPT.value_counts()\n",
    "# strip away question mark at the end of CONCEPT if any\n",
    "conditions.CONCEPT = conditions.CONCEPT.str.rstrip(\"?\")\n",
    "# remove . in the middle\n",
    "conditions.CONCEPT = conditions.CONCEPT.str.replace(\".\", \"\")\n",
    "# add D to the beginning of CONCEPT \n",
    "conditions.CONCEPT = \"D\" + conditions.CONCEPT\n",
    "conditions = conditions.dropna(subset=[\"CONCEPT\"])\n"
   ]
  },
  {
   "cell_type": "code",
   "execution_count": 59,
   "metadata": {},
   "outputs": [
    {
     "data": {
      "text/html": [
       "<div>\n",
       "<style scoped>\n",
       "    .dataframe tbody tr th:only-of-type {\n",
       "        vertical-align: middle;\n",
       "    }\n",
       "\n",
       "    .dataframe tbody tr th {\n",
       "        vertical-align: top;\n",
       "    }\n",
       "\n",
       "    .dataframe thead th {\n",
       "        text-align: right;\n",
       "    }\n",
       "</style>\n",
       "<table border=\"1\" class=\"dataframe\">\n",
       "  <thead>\n",
       "    <tr style=\"text-align: right;\">\n",
       "      <th></th>\n",
       "      <th>START</th>\n",
       "      <th>STOP</th>\n",
       "      <th>PATIENT</th>\n",
       "      <th>ENCOUNTER</th>\n",
       "      <th>CODE</th>\n",
       "      <th>DESCRIPTION</th>\n",
       "      <th>CONCEPT</th>\n",
       "    </tr>\n",
       "  </thead>\n",
       "  <tbody>\n",
       "    <tr>\n",
       "      <th>0</th>\n",
       "      <td>2013-09-16</td>\n",
       "      <td>2013-09-16</td>\n",
       "      <td>dabfdec7-929a-3269-fd84-ab7e6ecaa245</td>\n",
       "      <td>180dbc40-15f7-76aa-69b9-186a9d254418</td>\n",
       "      <td>314529007</td>\n",
       "      <td>Medication review due (situation)</td>\n",
       "      <td>DDZ76.89</td>\n",
       "    </tr>\n",
       "    <tr>\n",
       "      <th>1</th>\n",
       "      <td>2014-09-22</td>\n",
       "      <td>2015-09-28</td>\n",
       "      <td>dabfdec7-929a-3269-fd84-ab7e6ecaa245</td>\n",
       "      <td>4b62c7f2-17e3-63f1-a435-59982d55e70e</td>\n",
       "      <td>314529007</td>\n",
       "      <td>Medication review due (situation)</td>\n",
       "      <td>DDZ76.89</td>\n",
       "    </tr>\n",
       "    <tr>\n",
       "      <th>3</th>\n",
       "      <td>2015-08-02</td>\n",
       "      <td>2015-09-30</td>\n",
       "      <td>dabfdec7-929a-3269-fd84-ab7e6ecaa245</td>\n",
       "      <td>3c7523b4-954e-7d65-d6bb-192903bd04ed</td>\n",
       "      <td>110030002</td>\n",
       "      <td>Concussion injury of brain (disorder)</td>\n",
       "      <td>DDS06.0X0</td>\n",
       "    </tr>\n",
       "    <tr>\n",
       "      <th>4</th>\n",
       "      <td>2015-08-02</td>\n",
       "      <td>2015-09-30</td>\n",
       "      <td>dabfdec7-929a-3269-fd84-ab7e6ecaa245</td>\n",
       "      <td>3c7523b4-954e-7d65-d6bb-192903bd04ed</td>\n",
       "      <td>62106007</td>\n",
       "      <td>Concussion with no loss of consciousness</td>\n",
       "      <td>DDS06.0X0</td>\n",
       "    </tr>\n",
       "    <tr>\n",
       "      <th>5</th>\n",
       "      <td>2016-10-03</td>\n",
       "      <td>2021-04-26</td>\n",
       "      <td>dabfdec7-929a-3269-fd84-ab7e6ecaa245</td>\n",
       "      <td>816b0a0d-2794-4ad1-1201-189672c0e023</td>\n",
       "      <td>314529007</td>\n",
       "      <td>Medication review due (situation)</td>\n",
       "      <td>DDZ76.89</td>\n",
       "    </tr>\n",
       "    <tr>\n",
       "      <th>...</th>\n",
       "      <td>...</td>\n",
       "      <td>...</td>\n",
       "      <td>...</td>\n",
       "      <td>...</td>\n",
       "      <td>...</td>\n",
       "      <td>...</td>\n",
       "      <td>...</td>\n",
       "    </tr>\n",
       "    <tr>\n",
       "      <th>27972</th>\n",
       "      <td>2023-01-24</td>\n",
       "      <td>2023-03-21</td>\n",
       "      <td>a5aad816-cf2e-0a5e-1886-e249ef979ce5</td>\n",
       "      <td>81ab0780-33b9-37fd-48c7-8cb08da0a7ee</td>\n",
       "      <td>422650009</td>\n",
       "      <td>Social isolation (finding)</td>\n",
       "      <td>DDT74.32X</td>\n",
       "    </tr>\n",
       "    <tr>\n",
       "      <th>27973</th>\n",
       "      <td>2023-03-21</td>\n",
       "      <td>2023-03-28</td>\n",
       "      <td>a5aad816-cf2e-0a5e-1886-e249ef979ce5</td>\n",
       "      <td>56cc358a-ca9f-a651-3d0e-31825ce4c574</td>\n",
       "      <td>314529007</td>\n",
       "      <td>Medication review due (situation)</td>\n",
       "      <td>DDZ76.89</td>\n",
       "    </tr>\n",
       "    <tr>\n",
       "      <th>27975</th>\n",
       "      <td>2023-04-18</td>\n",
       "      <td>2023-04-18</td>\n",
       "      <td>a5aad816-cf2e-0a5e-1886-e249ef979ce5</td>\n",
       "      <td>e4226fd1-8052-07c9-e0b8-902537efed3a</td>\n",
       "      <td>314529007</td>\n",
       "      <td>Medication review due (situation)</td>\n",
       "      <td>DDZ76.89</td>\n",
       "    </tr>\n",
       "    <tr>\n",
       "      <th>27977</th>\n",
       "      <td>2023-04-18</td>\n",
       "      <td>NaN</td>\n",
       "      <td>a5aad816-cf2e-0a5e-1886-e249ef979ce5</td>\n",
       "      <td>e4226fd1-8052-07c9-e0b8-902537efed3a</td>\n",
       "      <td>73595000</td>\n",
       "      <td>Stress (finding)</td>\n",
       "      <td>DDZ73.3</td>\n",
       "    </tr>\n",
       "    <tr>\n",
       "      <th>27978</th>\n",
       "      <td>2023-05-23</td>\n",
       "      <td>2023-05-23</td>\n",
       "      <td>a5aad816-cf2e-0a5e-1886-e249ef979ce5</td>\n",
       "      <td>e431094e-b754-ec2e-b0bc-8d8f6717dc3c</td>\n",
       "      <td>314529007</td>\n",
       "      <td>Medication review due (situation)</td>\n",
       "      <td>DDZ76.89</td>\n",
       "    </tr>\n",
       "  </tbody>\n",
       "</table>\n",
       "<p>21715 rows × 7 columns</p>\n",
       "</div>"
      ],
      "text/plain": [
       "            START        STOP                               PATIENT  \\\n",
       "0      2013-09-16  2013-09-16  dabfdec7-929a-3269-fd84-ab7e6ecaa245   \n",
       "1      2014-09-22  2015-09-28  dabfdec7-929a-3269-fd84-ab7e6ecaa245   \n",
       "3      2015-08-02  2015-09-30  dabfdec7-929a-3269-fd84-ab7e6ecaa245   \n",
       "4      2015-08-02  2015-09-30  dabfdec7-929a-3269-fd84-ab7e6ecaa245   \n",
       "5      2016-10-03  2021-04-26  dabfdec7-929a-3269-fd84-ab7e6ecaa245   \n",
       "...           ...         ...                                   ...   \n",
       "27972  2023-01-24  2023-03-21  a5aad816-cf2e-0a5e-1886-e249ef979ce5   \n",
       "27973  2023-03-21  2023-03-28  a5aad816-cf2e-0a5e-1886-e249ef979ce5   \n",
       "27975  2023-04-18  2023-04-18  a5aad816-cf2e-0a5e-1886-e249ef979ce5   \n",
       "27977  2023-04-18         NaN  a5aad816-cf2e-0a5e-1886-e249ef979ce5   \n",
       "27978  2023-05-23  2023-05-23  a5aad816-cf2e-0a5e-1886-e249ef979ce5   \n",
       "\n",
       "                                  ENCOUNTER       CODE  \\\n",
       "0      180dbc40-15f7-76aa-69b9-186a9d254418  314529007   \n",
       "1      4b62c7f2-17e3-63f1-a435-59982d55e70e  314529007   \n",
       "3      3c7523b4-954e-7d65-d6bb-192903bd04ed  110030002   \n",
       "4      3c7523b4-954e-7d65-d6bb-192903bd04ed   62106007   \n",
       "5      816b0a0d-2794-4ad1-1201-189672c0e023  314529007   \n",
       "...                                     ...        ...   \n",
       "27972  81ab0780-33b9-37fd-48c7-8cb08da0a7ee  422650009   \n",
       "27973  56cc358a-ca9f-a651-3d0e-31825ce4c574  314529007   \n",
       "27975  e4226fd1-8052-07c9-e0b8-902537efed3a  314529007   \n",
       "27977  e4226fd1-8052-07c9-e0b8-902537efed3a   73595000   \n",
       "27978  e431094e-b754-ec2e-b0bc-8d8f6717dc3c  314529007   \n",
       "\n",
       "                                    DESCRIPTION    CONCEPT  \n",
       "0             Medication review due (situation)   DDZ76.89  \n",
       "1             Medication review due (situation)   DDZ76.89  \n",
       "3         Concussion injury of brain (disorder)  DDS06.0X0  \n",
       "4      Concussion with no loss of consciousness  DDS06.0X0  \n",
       "5             Medication review due (situation)   DDZ76.89  \n",
       "...                                         ...        ...  \n",
       "27972                Social isolation (finding)  DDT74.32X  \n",
       "27973         Medication review due (situation)   DDZ76.89  \n",
       "27975         Medication review due (situation)   DDZ76.89  \n",
       "27977                          Stress (finding)    DDZ73.3  \n",
       "27978         Medication review due (situation)   DDZ76.89  \n",
       "\n",
       "[21715 rows x 7 columns]"
      ]
     },
     "execution_count": 59,
     "metadata": {},
     "output_type": "execute_result"
    }
   ],
   "source": [
    "conditions"
   ]
  }
 ],
 "metadata": {
  "kernelspec": {
   "display_name": "datascience",
   "language": "python",
   "name": "python3"
  },
  "language_info": {
   "codemirror_mode": {
    "name": "ipython",
    "version": 3
   },
   "file_extension": ".py",
   "mimetype": "text/x-python",
   "name": "python",
   "nbconvert_exporter": "python",
   "pygments_lexer": "ipython3",
   "version": "3.9.16"
  },
  "orig_nbformat": 4
 },
 "nbformat": 4,
 "nbformat_minor": 2
}
