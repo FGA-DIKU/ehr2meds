{
 "cells": [
  {
   "cell_type": "markdown",
   "metadata": {},
   "source": [
    "## Install"
   ]
  },
  {
   "cell_type": "code",
   "execution_count": null,
   "metadata": {},
   "outputs": [],
   "source": [
    "pip install --upgrade azure-ai-ml"
   ]
  },
  {
   "cell_type": "markdown",
   "metadata": {},
   "source": [
    "## Run job"
   ]
  },
  {
   "cell_type": "code",
   "execution_count": null,
   "metadata": {},
   "outputs": [],
   "source": [
    "# This scripts starts a job on a cluster.\n",
    "# Run this script to run the source code in ./src/main.py\n",
    "#\n",
    "from azure.ai.ml import MLClient, command, Input, Output\n",
    "from azure.identity import DefaultAzureCredential\n",
    "\n",
    "# Create the ML Client\n",
    "ml_client = MLClient.from_config(DefaultAzureCredential())\n"
   ]
  },
  {
   "cell_type": "code",
   "execution_count": null,
   "metadata": {},
   "outputs": [],
   "source": []
  },
  {
   "cell_type": "markdown",
   "metadata": {},
   "source": []
  },
  {
   "cell_type": "markdown",
   "metadata": {},
   "source": [
    "### 1. Run preMEDS.py"
   ]
  },
  {
   "cell_type": "markdown",
   "metadata": {},
   "source": [
    "### 2. Run MEDS"
   ]
  },
  {
   "cell_type": "code",
   "execution_count": null,
   "metadata": {},
   "outputs": [],
   "source": [
    "# Prepare input directories\n",
    "inp_uri = f'azureml://subscriptions/f8c5aac3-29fc-4387-858a-1f61722fb57a/resourcegroups/forskerpl-n0ybkr-rg/workspaces/forskerpl-n0ybkr-mlw/datastores/workspaceblobstore/paths/MEDS_test/data/preMEDS'\n",
    "inputs = {\"input_dir\": Input(type=\"uri_folder\", path=inp_uri)}\n",
    "\n",
    "# Prepare output directories\n",
    "out_uri = f'azureml://subscriptions/f8c5aac3-29fc-4387-858a-1f61722fb57a/resourcegroups/forskerpl-n0ybkr-rg/workspaces/forskerpl-n0ybkr-mlw/datastores/workspaceblobstore/paths/MEDS_test/data/MEDS_data/'\n",
    "outputs = {\"output_dir\":Output(path=out_uri, type=\"uri_folder\", mode=\"rw_mount\")}"
   ]
  },
  {
   "cell_type": "code",
   "execution_count": null,
   "metadata": {},
   "outputs": [],
   "source": [
    "\n",
    "# Chose a compute cluster target (review the options at \"Compute\" => \"Compute clusters\")\n",
    "compute_target = \"CPU-20-LP\"\n",
    "\n",
    "# Start the job\n",
    "job = command(\n",
    "    code=\".\", # Folder with source code\n",
    "    command=\"bash run_MEDS_transform.sh ${{inputs.input_dir}}  ${{inputs.input_dir}} ${{outputs.output_dir}}\",\n",
    "    inputs=inputs,\n",
    "    outputs=outputs,\n",
    "    environment=\"MEDS_transform@latest\",\n",
    "    compute=compute_target,\n",
    ")\n",
    "\n",
    "returned_job = ml_client.create_or_update(job, experiment_name=\"MEDS\")"
   ]
  },
  {
   "cell_type": "markdown",
   "metadata": {},
   "source": [
    "## Make env"
   ]
  },
  {
   "cell_type": "code",
   "execution_count": null,
   "metadata": {},
   "outputs": [],
   "source": [
    "from azure.ai.ml import MLClient\n",
    "from azure.identity import DefaultAzureCredential\n",
    "from azure.ai.ml.entities import Environment\n",
    "\n",
    "mlc = MLClient.from_config(DefaultAzureCredential())\n",
    "\n",
    "env = Environment(\n",
    "    image=\"mcr.microsoft.com/azureml/openmpi4.1.0-ubuntu20.04\",\n",
    "    conda_file=\"../envs/MEDS_transform.yaml\",\n",
    "    name=\"MEDS_transform\",\n",
    "    description=\"Environment for MEDS-transforms\",\n",
    ")\n",
    "mlc.environments.create_or_update(env) "
   ]
  },
  {
   "cell_type": "code",
   "execution_count": null,
   "metadata": {},
   "outputs": [],
   "source": []
  },
  {
   "cell_type": "code",
   "execution_count": null,
   "metadata": {},
   "outputs": [],
   "source": []
  }
 ],
 "metadata": {
  "language_info": {
   "name": "python"
  }
 },
 "nbformat": 4,
 "nbformat_minor": 2
}
