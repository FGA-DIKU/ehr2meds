{
 "cells": [
  {
   "cell_type": "markdown",
   "metadata": {},
   "source": [
    "## Run job"
   ]
  },
  {
   "cell_type": "code",
   "execution_count": null,
   "metadata": {},
   "outputs": [],
   "source": [
    "# This scripts starts a job on a cluster.\n",
    "# Run this script to run the source code in ./src/main.py\n",
    "#\n",
    "from azure.ai.ml import MLClient, command, Input, Output\n",
    "from azure.identity import DefaultAzureCredential\n",
    "\n",
    "# Create the ML Client\n",
    "ml_client = MLClient.from_config(DefaultAzureCredential())\n"
   ]
  },
  {
   "cell_type": "code",
   "execution_count": null,
   "metadata": {},
   "outputs": [],
   "source": []
  },
  {
   "cell_type": "markdown",
   "metadata": {},
   "source": []
  },
  {
   "cell_type": "markdown",
   "metadata": {},
   "source": [
    "### Run task creation"
   ]
  },
  {
   "cell_type": "code",
   "execution_count": null,
   "metadata": {},
   "outputs": [],
   "source": [
    "# Prepare input directories\n",
    "inp_uri = f'azureml://subscriptions/f8c5aac3-29fc-4387-858a-1f61722fb57a/resourcegroups/forskerpl-n0ybkr-rg/workspaces/forskerpl-n0ybkr-mlw/datastores/workspaceblobstore/paths/MEDS/data/MEDS_data/'\n",
    "inputs = {\"input_dir\": Input(path=inp_uri)}\n",
    "\n",
    "# Prepare output directories\n",
    "out_uri = f'azureml://subscriptions/f8c5aac3-29fc-4387-858a-1f61722fb57a/resourcegroups/forskerpl-n0ybkr-rg/workspaces/forskerpl-n0ybkr-mlw/datastores/workspaceblobstore/paths/MEDS/data/MEDS_data/'\n",
    "outputs = {\"output_dir\":Output(path=inp_uri)}"
   ]
  },
  {
   "cell_type": "code",
   "execution_count": null,
   "metadata": {},
   "outputs": [],
   "source": [
    "# Chose a compute cluster target (review the options at \"Compute\" => \"Compute clusters\")\n",
    "compute_target = \"CPU-20-LP\"\n",
    "\n",
    "# Start the job\n",
    "job = command(\n",
    "    code=\".\", # Folder with source code\n",
    "    command=\"bash task_example.sh ${{outputs.output_dir}} CPH_data cancer/all_cancers \",\n",
    "    inputs=inputs,\n",
    "    outputs=outputs,\n",
    "    environment=\"meds_dev@latest\",\n",
    "    compute=compute_target,\n",
    "    #name=\"zsxdcfgh\"\n",
    ")\n",
    "\n",
    "returned_job = ml_client.create_or_update(job, experiment_name=\"MEDS_tasks\")"
   ]
  },
  {
   "cell_type": "markdown",
   "metadata": {},
   "source": [
    "### Run tabs"
   ]
  },
  {
   "cell_type": "code",
   "execution_count": null,
   "metadata": {},
   "outputs": [],
   "source": [
    "# Prepare input directories\n",
    "inp_uri = f'azureml://subscriptions/f8c5aac3-29fc-4387-858a-1f61722fb57a/resourcegroups/forskerpl-n0ybkr-rg/workspaces/forskerpl-n0ybkr-mlw/datastores/workspaceblobstore/paths/MEDS/data/MEDS_data/'\n",
    "inp_uri_labels = f'azureml://subscriptions/f8c5aac3-29fc-4387-858a-1f61722fb57a/resourcegroups/forskerpl-n0ybkr-rg/workspaces/forskerpl-n0ybkr-mlw/datastores/workspaceblobstore/paths/MEDS/data/MEDS_data/task_labels'\n",
    "inputs = {\"input_dir\": Input(path=inp_uri), \"labels_dir\": Input(path=inp_uri_labels)}\n",
    "\n",
    "# Prepare output directories\n",
    "out_uri = f'azureml://subscriptions/f8c5aac3-29fc-4387-858a-1f61722fb57a/resourcegroups/forskerpl-n0ybkr-rg/workspaces/forskerpl-n0ybkr-mlw/datastores/workspaceblobstore/paths/MEDS/data/MEDS_data_reshard/'\n",
    "out_uri_tabs = f'azureml://subscriptions/f8c5aac3-29fc-4387-858a-1f61722fb57a/resourcegroups/forskerpl-n0ybkr-rg/workspaces/forskerpl-n0ybkr-mlw/datastores/workspaceblobstore/paths/MEDS/data/MEDS_data_tabs_2/'\n",
    "outputs = {\"output_reshard_dir\":Output(path=out_uri), \"output_dir\":Output(path=out_uri_tabs)}"
   ]
  },
  {
   "cell_type": "code",
   "execution_count": null,
   "metadata": {},
   "outputs": [],
   "source": [
    "# Chose a compute cluster target (review the options at \"Compute\" => \"Compute clusters\")\n",
    "compute_target = \"CPU-20-LP\"\n",
    "\n",
    "# Start the job\n",
    "job = command(\n",
    "    code=\".\", # Folder with source code\n",
    "    command=\"bash -i run_tabs.sh ${{inputs.input_dir}}  ${{outputs.output_reshard_dir}} ${{outputs.output_dir}} 'cancer/all_cancers' ${{inputs.labels_dir}} ../models/ 200 \",\n",
    "    inputs=inputs,\n",
    "    outputs=outputs,\n",
    "    environment=\"meds_tabs@latest\",\n",
    "    compute=compute_target,\n",
    "    mode=\"download\",\n",
    "    #name=\"zsxdcfgh\"\n",
    ")\n",
    "\n",
    "returned_job = ml_client.create_or_update(job, experiment_name=\"MEDS_tasks\")"
   ]
  },
  {
   "cell_type": "markdown",
   "metadata": {},
   "source": [
    "## Make env"
   ]
  },
  {
   "cell_type": "code",
   "execution_count": null,
   "metadata": {},
   "outputs": [],
   "source": [
    "from azure.ai.ml import MLClient\n",
    "from azure.identity import DefaultAzureCredential\n",
    "from azure.ai.ml.entities import Environment\n",
    "\n",
    "mlc = MLClient.from_config(DefaultAzureCredential())\n",
    "\n",
    "env = Environment(\n",
    "    image=\"mcr.microsoft.com/azureml/openmpi4.1.0-ubuntu20.04\",\n",
    "    conda_file=\"../envs/tab_environment_simple.yaml\",\n",
    "    name=\"meds_tabs\",\n",
    "    description=\"Environment for MEDS-tabs\",\n",
    ")\n",
    "mlc.environments.create_or_update(env) "
   ]
  }
 ],
 "metadata": {
  "language_info": {
   "name": "python"
  }
 },
 "nbformat": 4,
 "nbformat_minor": 2
}
